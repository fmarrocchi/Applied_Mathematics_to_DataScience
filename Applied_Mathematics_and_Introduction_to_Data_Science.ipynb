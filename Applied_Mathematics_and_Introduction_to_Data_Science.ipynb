{
  "nbformat": 4,
  "nbformat_minor": 0,
  "metadata": {
    "colab": {
      "provenance": []
    },
    "kernelspec": {
      "name": "python3",
      "display_name": "Python 3"
    },
    "language_info": {
      "name": "python"
    }
  },
  "cells": [
    {
      "cell_type": "markdown",
      "metadata": {
        "id": "g4tRHxlhaNg-"
      },
      "source": [
        "###<center>Applied Mathematics to Data Science</center>"
      ]
    },
    {
      "cell_type": "markdown",
      "source": [
        "Import all the required package dependencies"
      ],
      "metadata": {
        "id": "yxW481lcDkMl"
      }
    },
    {
      "cell_type": "code",
      "execution_count": null,
      "metadata": {
        "id": "SARjhYbDCnlW"
      },
      "outputs": [],
      "source": [
        "import numpy as np\n",
        "import scipy.spatial.distance as distance\n",
        "import scipy.stats as stats\n",
        "import matplotlib.pyplot as plt"
      ]
    },
    {
      "cell_type": "markdown",
      "source": [
        "Create a 12x8 matrix A and initialize it with random values"
      ],
      "metadata": {
        "id": "xC_cOXymEKDN"
      }
    },
    {
      "cell_type": "code",
      "source": [
        "# Uniform distribution with values within the range [0, 1)\n",
        "A = np.random.rand(12,8)\n",
        "print(A)"
      ],
      "metadata": {
        "id": "fl1TlaMSEKe8",
        "colab": {
          "base_uri": "https://localhost:8080/"
        },
        "outputId": "ffb284da-bec5-4d0e-814f-8e4957e6ee71"
      },
      "execution_count": null,
      "outputs": [
        {
          "output_type": "stream",
          "name": "stdout",
          "text": [
            "[[0.29641193 0.92394168 0.1570035  0.53067257 0.79904987 0.33206861\n",
            "  0.7617838  0.8957982 ]\n",
            " [0.60180498 0.90659326 0.8564338  0.98275684 0.39743798 0.37465462\n",
            "  0.39459184 0.25349728]\n",
            " [0.7322023  0.57931612 0.57179021 0.96768115 0.81540815 0.11389502\n",
            "  0.87536652 0.09117262]\n",
            " [0.52822881 0.39406983 0.43181416 0.94513644 0.22405433 0.35529397\n",
            "  0.82574015 0.4223146 ]\n",
            " [0.95937452 0.33831382 0.97109803 0.1878486  0.55086952 0.11176986\n",
            "  0.91715784 0.09062736]\n",
            " [0.90928901 0.10425609 0.89926914 0.84512666 0.95750409 0.40191208\n",
            "  0.44282732 0.55369461]\n",
            " [0.1955459  0.48636209 0.6884752  0.80403578 0.36998199 0.3258973\n",
            "  0.04944692 0.79509858]\n",
            " [0.72462928 0.6942556  0.26213787 0.28144605 0.04529985 0.99128709\n",
            "  0.95321325 0.68973507]\n",
            " [0.67249571 0.99276818 0.68272803 0.89920785 0.69818286 0.6427549\n",
            "  0.87507748 0.47252481]\n",
            " [0.89647915 0.98276438 0.05941722 0.30811986 0.06429922 0.52136107\n",
            "  0.83261286 0.82964098]\n",
            " [0.68984571 0.31491145 0.66819032 0.17810955 0.53255102 0.35588519\n",
            "  0.83513396 0.43913173]\n",
            " [0.89370753 0.58197296 0.63193547 0.25245795 0.94763909 0.25400502\n",
            "  0.24798786 0.2973151 ]]\n"
          ]
        }
      ]
    },
    {
      "cell_type": "markdown",
      "source": [
        "Calculate the minimum and maximum value of matrix A"
      ],
      "metadata": {
        "id": "_J_BJE2ZFPx9"
      }
    },
    {
      "cell_type": "code",
      "source": [
        "print(\"Min:\", np.amin(A))\n",
        "print(\"Max:\", np.amax(A))"
      ],
      "metadata": {
        "id": "pNgQbvh7FNKu",
        "colab": {
          "base_uri": "https://localhost:8080/"
        },
        "outputId": "15b8944a-a19e-49c1-dc9b-dd515b9fb839"
      },
      "execution_count": null,
      "outputs": [
        {
          "output_type": "stream",
          "name": "stdout",
          "text": [
            "Minimo: 0.045299851792364176\n",
            "Maximo: 0.9927681797842935\n"
          ]
        }
      ]
    },
    {
      "cell_type": "markdown",
      "source": [
        "Calculate the mean and median of matrix A"
      ],
      "metadata": {
        "id": "s6WSQ_iGHC8f"
      }
    },
    {
      "cell_type": "code",
      "source": [
        "print(\"Mean:\", np.mean(A))\n",
        "print(\"Median:\", np.median(A))"
      ],
      "metadata": {
        "id": "-jx3dnj9HCC3",
        "colab": {
          "base_uri": "https://localhost:8080/"
        },
        "outputId": "b9113881-9d53-4d7b-b066-b13e2b91a7c7"
      },
      "execution_count": null,
      "outputs": [
        {
          "output_type": "stream",
          "name": "stdout",
          "text": [
            "Media: 0.5675727710728066\n",
            "Mediana: 0.5755531617617256\n"
          ]
        }
      ]
    },
    {
      "cell_type": "markdown",
      "source": [
        "Create an 8x4 matrix B and initialize it with random values."
      ],
      "metadata": {
        "id": "5xgj6v6VHRO2"
      }
    },
    {
      "cell_type": "code",
      "source": [
        "# Uniform distribution with values within the range [0, 1)\n",
        "B = np.random.rand(8,4)\n",
        "print(B)"
      ],
      "metadata": {
        "id": "QLy0ypnEHRxO",
        "colab": {
          "base_uri": "https://localhost:8080/"
        },
        "outputId": "701242c9-b091-45c5-92c3-e2db047a577d"
      },
      "execution_count": null,
      "outputs": [
        {
          "output_type": "stream",
          "name": "stdout",
          "text": [
            "[[0.67320257 0.13323418 0.78039324 0.99585584]\n",
            " [0.17112189 0.82594014 0.62133588 0.01367175]\n",
            " [0.86864481 0.72899335 0.81112366 0.86991403]\n",
            " [0.61972879 0.78676099 0.78354864 0.66090307]\n",
            " [0.511432   0.4137972  0.83706593 0.68655618]\n",
            " [0.46734556 0.98208233 0.79138501 0.11803899]\n",
            " [0.47838617 0.99210955 0.58065295 0.29637943]\n",
            " [0.1419292  0.38686201 0.78037109 0.31261713]]\n"
          ]
        }
      ]
    },
    {
      "cell_type": "markdown",
      "source": [
        "Matrix multiplication (scalar) calculation between matrix A and the matrix formed by the first two columns of B."
      ],
      "metadata": {
        "id": "eEq-_NFFHfwx"
      }
    },
    {
      "cell_type": "code",
      "source": [
        "print(np.dot(A, B[:,0:2]))"
      ],
      "metadata": {
        "id": "j7D_OMRMHgZY",
        "colab": {
          "base_uri": "https://localhost:8080/"
        },
        "outputId": "00177887-4a7b-4191-b15c-8753e7415cf5"
      },
      "execution_count": null,
      "outputs": [
        {
          "output_type": "stream",
          "name": "stdout",
          "text": [
            "[[1.8783225  3.0936663 ]\n",
            " [2.51635571 3.24844925]\n",
            " [2.59039405 3.10719844]\n",
            " [2.11945541 2.8784855 ]\n",
            " [2.44928649 2.5456612 ]\n",
            " [2.90282896 2.97219146]\n",
            " [1.78922345 2.39204288]\n",
            " [2.04908855 3.28728125]\n",
            " [2.91607511 4.08585133]\n",
            " [1.806849   2.90250374]\n",
            " [2.10962098 2.54754942]\n",
            " [2.17081019 2.26168333]]\n"
          ]
        }
      ]
    },
    {
      "cell_type": "markdown",
      "source": [
        "Calculate the Euclidean distance between the vector formed by the first row of matrix A and the vector formed by the second row of matrix A (this is equivalent to the L2 norm of the vector difference between the vectors arising from the first two rows of A)."
      ],
      "metadata": {
        "id": "XPootLe5IbD3"
      }
    },
    {
      "cell_type": "code",
      "source": [
        "print(\"First row from A:\")\n",
        "print(A[0,:])\n",
        "\n",
        "print(\"Secon row from A:\")\n",
        "print(A[1, :])\n",
        "\n",
        "print(\"Euclidean distance (using numpy):\")\n",
        "np.linalg.norm(A[0,:] - A[1, :])"
      ],
      "metadata": {
        "id": "j9i-s6TPJXkn",
        "colab": {
          "base_uri": "https://localhost:8080/"
        },
        "outputId": "99f8123e-7809-47a6-cdf7-4ae6ff80251e"
      },
      "execution_count": null,
      "outputs": [
        {
          "output_type": "stream",
          "name": "stdout",
          "text": [
            "Primer fila de A:\n",
            "[0.29641193 0.92394168 0.1570035  0.53067257 0.79904987 0.33206861\n",
            " 0.7617838  0.8957982 ]\n",
            "Segunda fila de A:\n",
            "[0.60180498 0.90659326 0.8564338  0.98275684 0.39743798 0.37465462\n",
            " 0.39459184 0.25349728]\n",
            "Distancia euclídea (con numpy):\n"
          ]
        },
        {
          "output_type": "execute_result",
          "data": {
            "text/plain": [
              "1.2237789377756334"
            ]
          },
          "metadata": {},
          "execution_count": 8
        }
      ]
    },
    {
      "cell_type": "code",
      "source": [
        "# Same calculation, using the Euclidean function from the Scipy library\n",
        "print(\"Euclidean distance (using spicy):\")\n",
        "print(distance.euclidean(A[0,:], A[1, :]))"
      ],
      "metadata": {
        "colab": {
          "base_uri": "https://localhost:8080/"
        },
        "id": "j5EYRKSxaDEv",
        "outputId": "548d13ae-edde-4f8e-fd09-3025cae313bd"
      },
      "execution_count": null,
      "outputs": [
        {
          "output_type": "stream",
          "name": "stdout",
          "text": [
            "Distancia euclídea (con spicy):\n",
            "1.2237789377756334\n"
          ]
        }
      ]
    },
    {
      "cell_type": "markdown",
      "source": [
        "## Probability and statistics"
      ],
      "metadata": {
        "id": "6So0GmHXJ7qO"
      }
    },
    {
      "cell_type": "markdown",
      "source": [
        "## Simulating red blood cells\n",
        "\n",
        "<div>\n",
        "<img src= \"https://images.ecestaticos.com/fNfpAuyR-AnhaWwlARtp_y02Fi4=/28x0:771x557/1200x900/filters:fill(white):format(jpg)/f.elconfidencial.com%2Foriginal%2F55e%2F398%2F467%2F55e39846750809ba859ef2fa8b088510.jpg\" width=\"300\">\n",
        "</div>\n",
        "\n",
        "A blood bank holds blood samples from a large number of individuals. Historically, 40% of the donations were made by men, and the remaining 60% by women. It is also known that in the red blood cell count, men have a mean of 5.3 million cells/μl (with a standard deviation of 0.35 million cells/μl), while women have a mean of 4.6 million cells/μl (with a standard deviation of 0.2 million cells/μl).\n",
        "\n",
        "Simulate a random sample of 10,000 individuals from such a blood bank and create a histogram that jointly shows the distribution of red blood cells in the blood samples."
      ],
      "metadata": {
        "id": "qOmfKd3RLxh2"
      }
    },
    {
      "cell_type": "markdown",
      "source": [
        "# Notes\n",
        "## Mean\n",
        "The **mean** is a measure of the central tendency of a sample (a set of values).\n",
        "The mean, also known as the average, is the value obtained by dividing the sum of a collection of numbers by their quantity.\n",
        "\n",
        "## Standard Deviation\n",
        "The **standard deviation** is the square root of the variance (average of the squared difference of each value from its mean).\n",
        "The standard deviation measures the spread or dispersion of a data distribution.\n",
        "The more spread out a data distribution is, the larger its standard deviation.\n",
        "Interestingly, the standard deviation cannot be negative.\n",
        "A low standard deviation indicates that most of the data in a sample tend to cluster near its mean (also called the expected value), while a high standard deviation indicates that the data spreads across a wider range of values.\n"
      ],
      "metadata": {
        "id": "zx6G4Cfbizpa"
      }
    },
    {
      "cell_type": "code",
      "source": [
        "variables = ['M', 'H']\n",
        "probabilidad = [0.6, 0.4]\n",
        "muestras = np.random.choice(variables, size=10000, p=probabilidad)\n",
        "print('Number of women in the sample:', np.count_nonzero(muestras == 'M'))\n",
        "print('Number of men in the sample:', np.count_nonzero(muestras == 'H'))\n",
        "\n",
        "np.sum(probabilidad)"
      ],
      "metadata": {
        "colab": {
          "base_uri": "https://localhost:8080/"
        },
        "id": "ilTJ4zS8zXyW",
        "outputId": "3ad004d3-9899-4f1b-a914-efaedb5e5428"
      },
      "execution_count": null,
      "outputs": [
        {
          "output_type": "stream",
          "name": "stdout",
          "text": [
            "Cantidad de mujeres en la muestra: 6051\n",
            "Cantidad de hombres en la muestra: 3949\n"
          ]
        },
        {
          "output_type": "execute_result",
          "data": {
            "text/plain": [
              "1.0"
            ]
          },
          "metadata": {},
          "execution_count": 10
        }
      ]
    },
    {
      "cell_type": "code",
      "source": [
        "# WOMEN\n",
        "#Mean and standard deviation\n",
        "m_mu, m_sigma = 4.6, 0.2\n",
        "\n",
        "m = np.random.normal(m_mu, m_sigma, np.count_nonzero(muestras == 'M'))\n",
        "\n",
        "# Histogram\n",
        "count, bins, ignored = plt.hist(m, 50, density=True, label='Mujeres')\n",
        "\n",
        "# Draw distribution curve\n",
        "plt.plot(bins, 1/(m_sigma * np.sqrt(2 * np.pi)) *\n",
        "    np.exp( - (bins - m_mu)**2 / (2 * m_sigma**2) ), linewidth=3)\n",
        "\n",
        "\n",
        "# MEN\n",
        "# Mean and standard deviation\n",
        "h_mu, h_sigma = 5.3, 0.35\n",
        "\n",
        "h = np.random.normal(h_mu, h_sigma, np.count_nonzero(muestras == 'H'))\n",
        "\n",
        "# Histogram\n",
        "count, bins, ignored = plt.hist(h, 50, density=True, label='Hombres')\n",
        "\n",
        "# Draw the distribution curve\n",
        "plt.plot(bins, 1/(h_sigma * np.sqrt(2 * np.pi)) *\n",
        "    np.exp( - (bins - h_mu)**2 / (2 * h_sigma**2) ), linewidth=3)\n",
        "\n",
        "plt.title('Red blood cell distribution by sex')\n",
        "plt.legend(loc='upper right')\n",
        "plt.show()"
      ],
      "metadata": {
        "colab": {
          "base_uri": "https://localhost:8080/",
          "height": 281
        },
        "id": "VdeY4XSyYR0K",
        "outputId": "77e8e790-3f35-4959-97d6-6a1969c64478"
      },
      "execution_count": null,
      "outputs": [
        {
          "output_type": "display_data",
          "data": {
            "text/plain": [
              "<Figure size 432x288 with 1 Axes>"
            ],
            "image/png": "[encoded data removed]"
          },
          "metadata": {
            "needs_background": "light"
          }
        }
      ]
    },
    {
      "cell_type": "markdown",
      "source": [
        "## Hypothesis testing"
      ],
      "metadata": {
        "id": "x2vqAN4mT5uY"
      }
    },
    {
      "cell_type": "markdown",
      "source": [
        "A university professor taught classes online instead of in-person classes during the Covid-19 pandemic. Upon completion, he uploaded recorded lectures for students who were taking the course asynchronously/remotely.\n",
        "\n",
        "However, the professor believes that students who attended in-person classes performed better. Therefore, he recorded the average grades of the students at the end of the semester. The grades for both sets of students are listed below."
      ],
      "metadata": {
        "id": "tWsatnnUT-EY"
      }
    },
    {
      "cell_type": "code",
      "source": [
        "#listado de notas según modalidad de cursado\n",
        "presenciales = [94. , 84.9, 82.6, 69.5, 80.1, 79.6, 81.4, 77.8, 81.7, 78.8, 73.2, 87.9, 87.9, 93.5, 82.3, 79.3, 78.3, 71.6, 88.6, 74.6, 74.1, 80.6]\n",
        "remotos = [77.1, 71.7, 91. , 72.2, 74.8, 85.1, 67.6, 69.9, 75.3, 71.7, 65.7, 72.6, 71.5, 78.2]"
      ],
      "metadata": {
        "id": "i4MLwBZYUnTf"
      },
      "execution_count": null,
      "outputs": []
    },
    {
      "cell_type": "markdown",
      "source": [
        "Use a t-test (Student's t test) to determine if there are significant differences between the two samples. I use a significance level of 0.05 to reject the null hypothesis that the means are equal."
      ],
      "metadata": {
        "id": "8x3Sm3dwVF0m"
      }
    },
    {
      "cell_type": "code",
      "source": [
        "stats.ttest_ind(presenciales, remotos)"
      ],
      "metadata": {
        "id": "Pt_uu9IcU2cO",
        "colab": {
          "base_uri": "https://localhost:8080/"
        },
        "outputId": "deea4d75-7b3a-4ad0-bfd3-86bc5a0e99e2"
      },
      "execution_count": null,
      "outputs": [
        {
          "output_type": "execute_result",
          "data": {
            "text/plain": [
              "Ttest_indResult(statistic=2.8414882345796917, pvalue=0.007535984340826129)"
            ]
          },
          "metadata": {},
          "execution_count": 13
        }
      ]
    },
    {
      "cell_type": "markdown",
      "source": [
        "With a p-value of 0.007535984340826129 ≈ 0.007 and using a significance level of α = 0.05, we can reject the null hypothesis that the means are equal since the p-value is less than α. Therefore, we have evidence to support the alternative hypothesis that the means of in-person and remote students are different.\n",
        "\n",
        "p-value < α ⇒ reject H0 ⇒ accept Ha"
      ],
      "metadata": {
        "id": "Xl18OkWOOAHA"
      }
    },
    {
      "cell_type": "markdown",
      "source": [
        "Hypothesis testing with a t-test, technically, requires both samples to follow a normal distribution (and also to have equal variances).\n",
        "\n",
        "Therefore, perform a normality test on the two samples using the Shapiro-Wilk test. Look for the appropriate method within scipy to conduct the test and indicate whether the hypothesis that both samples do not follow normal distributions can be rejected with a significance level of less than 5%."
      ],
      "metadata": {
        "id": "TBB85VS2x-zz"
      }
    },
    {
      "cell_type": "code",
      "source": [
        "shapiro_test_presenciales = stats.shapiro(presenciales)\n",
        "print('p-value presential:', shapiro_test_presenciales.pvalue)\n",
        "\n",
        "shapiro_test_remotos = stats.shapiro(remotos)\n",
        "print('p-value remote:', shapiro_test_remotos.pvalue)"
      ],
      "metadata": {
        "id": "JFpCxywfx-i8",
        "colab": {
          "base_uri": "https://localhost:8080/"
        },
        "outputId": "c355f9eb-8a6f-4600-f810-94321980c72b"
      },
      "execution_count": null,
      "outputs": [
        {
          "output_type": "stream",
          "name": "stdout",
          "text": [
            "p-value presenciales: 0.6555852293968201\n",
            "p-value remotos: 0.08030205965042114\n"
          ]
        }
      ]
    },
    {
      "cell_type": "markdown",
      "source": [
        "Given the null hypothesis that the samples follow a normal distribution, if the p-value is less than α = 0.05, then the null hypothesis is rejected (it is concluded that the data do not come from a normal distribution). If the p-value is greater than α, it is concluded that the null hypothesis cannot be rejected.\n",
        "\n",
        "Therefore, **for both cases, the hypothesis cannot be rejected** that both samples follow normal distributions. No evidence was found to reject the hypothesis at the 5% level, and thus it can be accepted."
      ],
      "metadata": {
        "id": "67OlaKAkS7zM"
      }
    },
    {
      "cell_type": "code",
      "source": [],
      "metadata": {
        "id": "p2ghJf7oUyxj"
      },
      "execution_count": null,
      "outputs": []
    }
  ]
}